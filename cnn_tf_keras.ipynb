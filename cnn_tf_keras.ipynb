{
 "cells": [
  {
   "cell_type": "markdown",
   "metadata": {},
   "source": [
    "# Digit Recognition \n",
    "## Convolutional Neural Network implementation using TensorFlow - Keras\n",
    "- Venkata A. Bharat Pothavajhala"
   ]
  },
  {
   "cell_type": "code",
   "execution_count": 1,
   "metadata": {
    "colab": {
     "base_uri": "https://localhost:8080/",
     "height": 35
    },
    "executionInfo": {
     "elapsed": 2327,
     "status": "ok",
     "timestamp": 1609034105883,
     "user": {
      "displayName": "Anjaneya Bharat",
      "photoUrl": "",
      "userId": "17408094553526861754"
     },
     "user_tz": 300
    },
    "id": "K1t2gh4qXL6p",
    "outputId": "d92775d1-4adc-4234-f5ed-b77b777d029d"
   },
   "outputs": [
    {
     "data": {
      "application/vnd.google.colaboratory.intrinsic+json": {
       "type": "string"
      },
      "text/plain": [
       "'2.4.0'"
      ]
     },
     "execution_count": 1,
     "metadata": {
      "tags": []
     },
     "output_type": "execute_result"
    }
   ],
   "source": [
    "import tensorflow as tf\n",
    "tf.__version__"
   ]
  },
  {
   "cell_type": "code",
   "execution_count": 2,
   "metadata": {
    "colab": {
     "base_uri": "https://localhost:8080/"
    },
    "executionInfo": {
     "elapsed": 520,
     "status": "ok",
     "timestamp": 1609034107214,
     "user": {
      "displayName": "Anjaneya Bharat",
      "photoUrl": "",
      "userId": "17408094553526861754"
     },
     "user_tz": 300
    },
    "id": "-HpFnAxjXXFd",
    "outputId": "9484fe00-e014-497f-9e82-991184192b15"
   },
   "outputs": [
    {
     "name": "stdout",
     "output_type": "stream",
     "text": [
      "TensorFlow version: 2.4.0\n",
      "Keras version: 2.4.0\n"
     ]
    }
   ],
   "source": [
    "import tensorflow.keras as keras\n",
    "print('TensorFlow version:',tf.__version__)\n",
    "print('Keras version:',keras.__version__)"
   ]
  },
  {
   "cell_type": "code",
   "execution_count": 3,
   "metadata": {
    "colab": {
     "base_uri": "https://localhost:8080/"
    },
    "executionInfo": {
     "elapsed": 1831,
     "status": "ok",
     "timestamp": 1609034110215,
     "user": {
      "displayName": "Anjaneya Bharat",
      "photoUrl": "",
      "userId": "17408094553526861754"
     },
     "user_tz": 300
    },
    "id": "SMXMw_PeXhT3",
    "outputId": "d799fde1-b162-4d41-de2f-373a8f48954c"
   },
   "outputs": [
    {
     "name": "stdout",
     "output_type": "stream",
     "text": [
      "Downloading data from https://storage.googleapis.com/tensorflow/tf-keras-datasets/mnist.npz\n",
      "11493376/11490434 [==============================] - 0s 0us/step\n"
     ]
    }
   ],
   "source": [
    "mnist = tf.keras.datasets.mnist.load_data(path='mnist.npz')"
   ]
  },
  {
   "cell_type": "code",
   "execution_count": 25,
   "metadata": {
    "executionInfo": {
     "elapsed": 553,
     "status": "ok",
     "timestamp": 1609040571819,
     "user": {
      "displayName": "Anjaneya Bharat",
      "photoUrl": "",
      "userId": "17408094553526861754"
     },
     "user_tz": 300
    },
    "id": "Syq3YDgsXkvW"
   },
   "outputs": [],
   "source": [
    "import matplotlib.pyplot as plt\n",
    "import matplotlib.image as mpimg\n",
    "import os\n",
    "%matplotlib inline\n"
   ]
  },
  {
   "cell_type": "code",
   "execution_count": 26,
   "metadata": {
    "executionInfo": {
     "elapsed": 1099,
     "status": "ok",
     "timestamp": 1609040573038,
     "user": {
      "displayName": "Anjaneya Bharat",
      "photoUrl": "",
      "userId": "17408094553526861754"
     },
     "user_tz": 300
    },
    "id": "XAXrRC2GXnc_"
   },
   "outputs": [],
   "source": [
    "(train_X, train_Y), (test_X, test_Y) = mnist"
   ]
  },
  {
   "cell_type": "code",
   "execution_count": 29,
   "metadata": {
    "colab": {
     "base_uri": "https://localhost:8080/",
     "height": 513
    },
    "executionInfo": {
     "elapsed": 1113,
     "status": "ok",
     "timestamp": 1609040593921,
     "user": {
      "displayName": "Anjaneya Bharat",
      "photoUrl": "",
      "userId": "17408094553526861754"
     },
     "user_tz": 300
    },
    "id": "01bI0obfF8Fe",
    "outputId": "5ded90da-c723-4487-a681-ebdf7e4acb75"
   },
   "outputs": [
    {
     "data": {
      "image/png": "[encoded data removed]",
      "text/plain": [
       "<Figure size 432x288 with 1 Axes>"
      ]
     },
     "metadata": {
      "needs_background": "light",
      "tags": []
     },
     "output_type": "display_data"
    },
    {
     "data": {
      "image/png": "[encoded data removed]",
      "text/plain": [
       "<Figure size 432x288 with 1 Axes>"
      ]
     },
     "metadata": {
      "needs_background": "light",
      "tags": []
     },
     "output_type": "display_data"
    }
   ],
   "source": [
    "for i in range(2):\n",
    "    plt.imshow(train_X[i])\n",
    "    plt.show()"
   ]
  },
  {
   "cell_type": "code",
   "execution_count": 6,
   "metadata": {
    "executionInfo": {
     "elapsed": 540,
     "status": "ok",
     "timestamp": 1609034116425,
     "user": {
      "displayName": "Anjaneya Bharat",
      "photoUrl": "",
      "userId": "17408094553526861754"
     },
     "user_tz": 300
    },
    "id": "zVcY72aFXudf"
   },
   "outputs": [],
   "source": [
    "from tensorflow.keras.models import Sequential\n",
    "from tensorflow.keras.layers import Conv2D, MaxPooling2D, Dropout, Flatten, Dense"
   ]
  },
  {
   "cell_type": "code",
   "execution_count": 7,
   "metadata": {
    "executionInfo": {
     "elapsed": 1222,
     "status": "ok",
     "timestamp": 1609034118969,
     "user": {
      "displayName": "Anjaneya Bharat",
      "photoUrl": "",
      "userId": "17408094553526861754"
     },
     "user_tz": 300
    },
    "id": "kLcN57plX1ZX"
   },
   "outputs": [],
   "source": [
    "model = Sequential()\n",
    "inputShape = (28,28,1)\n",
    "# The input layer accepts an image and applies a convolution that uses 32 6x6 filters and a rectified linear unit activation function\n",
    "model.add(Conv2D(32, kernel_size=(6,6),strides=(1,1),activation='relu',input_shape = inputShape))\n",
    "model.add(MaxPooling2D(pool_size=(2,2)))\n",
    "model.add(Conv2D(32, kernel_size=(6,6),strides=(1,1),activation='relu'))\n",
    "model.add(MaxPooling2D(pool_size=(2,2)))\n",
    "# model.add(Conv2D(32, kernel_size=(3,3),strides=(1,1),activation='relu'))\n",
    "# model.add(MaxPooling2D(pool_size=(2,2)))\n",
    "model.add(Dropout(0.1))\n",
    "model.add(Flatten())\n",
    "model.add(Dense(10,activation='softmax'))"
   ]
  },
  {
   "cell_type": "code",
   "execution_count": 8,
   "metadata": {
    "colab": {
     "base_uri": "https://localhost:8080/"
    },
    "executionInfo": {
     "elapsed": 587,
     "status": "ok",
     "timestamp": 1609034121343,
     "user": {
      "displayName": "Anjaneya Bharat",
      "photoUrl": "",
      "userId": "17408094553526861754"
     },
     "user_tz": 300
    },
    "id": "cX7q9dboX7oD",
    "outputId": "5c106e9a-b5e0-4d59-bdaa-ee8452f5bdea"
   },
   "outputs": [
    {
     "name": "stdout",
     "output_type": "stream",
     "text": [
      "Model: \"sequential\"\n",
      "_________________________________________________________________\n",
      "Layer (type)                 Output Shape              Param #   \n",
      "=================================================================\n",
      "conv2d (Conv2D)              (None, 23, 23, 32)        1184      \n",
      "_________________________________________________________________\n",
      "max_pooling2d (MaxPooling2D) (None, 11, 11, 32)        0         \n",
      "_________________________________________________________________\n",
      "conv2d_1 (Conv2D)            (None, 6, 6, 32)          36896     \n",
      "_________________________________________________________________\n",
      "max_pooling2d_1 (MaxPooling2 (None, 3, 3, 32)          0         \n",
      "_________________________________________________________________\n",
      "dropout (Dropout)            (None, 3, 3, 32)          0         \n",
      "_________________________________________________________________\n",
      "flatten (Flatten)            (None, 288)               0         \n",
      "_________________________________________________________________\n",
      "dense (Dense)                (None, 10)                2890      \n",
      "=================================================================\n",
      "Total params: 40,970\n",
      "Trainable params: 40,970\n",
      "Non-trainable params: 0\n",
      "_________________________________________________________________\n",
      "None\n"
     ]
    }
   ],
   "source": [
    "# With the layers defined, we can now compile the model for categorical (multi-class) classification\n",
    "model.compile(loss='categorical_crossentropy',\n",
    "              optimizer='adam',\n",
    "              metrics=['accuracy'])\n",
    "\n",
    "print(model.summary())"
   ]
  },
  {
   "cell_type": "code",
   "execution_count": 9,
   "metadata": {
    "colab": {
     "base_uri": "https://localhost:8080/"
    },
    "executionInfo": {
     "elapsed": 590,
     "status": "ok",
     "timestamp": 1609034123903,
     "user": {
      "displayName": "Anjaneya Bharat",
      "photoUrl": "",
      "userId": "17408094553526861754"
     },
     "user_tz": 300
    },
    "id": "Zn7mQzRHX-2O",
    "outputId": "de2e9f3e-66e0-406f-f95b-a6c06e7612b7"
   },
   "outputs": [
    {
     "data": {
      "text/plain": [
       "(60000, 28, 28, 1)"
      ]
     },
     "execution_count": 9,
     "metadata": {
      "tags": []
     },
     "output_type": "execute_result"
    }
   ],
   "source": [
    "train_X.shape\n",
    "train_X = train_X.reshape(-1,28,28,1)\n",
    "train_X.shape"
   ]
  },
  {
   "cell_type": "code",
   "execution_count": 10,
   "metadata": {
    "colab": {
     "base_uri": "https://localhost:8080/"
    },
    "executionInfo": {
     "elapsed": 511,
     "status": "ok",
     "timestamp": 1609034125539,
     "user": {
      "displayName": "Anjaneya Bharat",
      "photoUrl": "",
      "userId": "17408094553526861754"
     },
     "user_tz": 300
    },
    "id": "_cUxR00_YEBy",
    "outputId": "30657ad0-fc53-47c1-d7ac-93ee7c81528c"
   },
   "outputs": [
    {
     "data": {
      "text/plain": [
       "array([[0., 0., 0., ..., 0., 0., 0.],\n",
       "       [1., 0., 0., ..., 0., 0., 0.],\n",
       "       [0., 0., 0., ..., 0., 0., 0.],\n",
       "       ...,\n",
       "       [0., 0., 0., ..., 0., 0., 0.],\n",
       "       [0., 0., 0., ..., 0., 0., 0.],\n",
       "       [0., 0., 0., ..., 0., 1., 0.]], dtype=float32)"
      ]
     },
     "execution_count": 10,
     "metadata": {
      "tags": []
     },
     "output_type": "execute_result"
    }
   ],
   "source": [
    "#import numpy as np\n",
    "y = tf.keras.utils.to_categorical(train_Y, num_classes=10)\n",
    "y"
   ]
  },
  {
   "cell_type": "code",
   "execution_count": 11,
   "metadata": {
    "colab": {
     "base_uri": "https://localhost:8080/"
    },
    "executionInfo": {
     "elapsed": 214051,
     "status": "ok",
     "timestamp": 1609034342321,
     "user": {
      "displayName": "Anjaneya Bharat",
      "photoUrl": "",
      "userId": "17408094553526861754"
     },
     "user_tz": 300
    },
    "id": "JseUuR63YE8H",
    "outputId": "de5b8c06-0277-4ae4-bc9d-420fd0bc902d"
   },
   "outputs": [
    {
     "name": "stdout",
     "output_type": "stream",
     "text": [
      "Epoch 1/5\n",
      "2000/2000 [==============================] - 43s 21ms/step - loss: 1.7607 - accuracy: 0.8177\n",
      "Epoch 2/5\n",
      "2000/2000 [==============================] - 43s 21ms/step - loss: 0.1073 - accuracy: 0.9689\n",
      "Epoch 3/5\n",
      "2000/2000 [==============================] - 42s 21ms/step - loss: 0.0813 - accuracy: 0.9756\n",
      "Epoch 4/5\n",
      "2000/2000 [==============================] - 43s 21ms/step - loss: 0.0771 - accuracy: 0.9770\n",
      "Epoch 5/5\n",
      "2000/2000 [==============================] - 43s 21ms/step - loss: 0.0658 - accuracy: 0.9813\n"
     ]
    }
   ],
   "source": [
    "# Train the model over 5 epochs using 30-image batches and using the validation holdout dataset for validation\n",
    "num_epochs = 5\n",
    "batch_size = 30\n",
    "history = model.fit(train_X,y,batch_size=batch_size,epochs = num_epochs)"
   ]
  },
  {
   "cell_type": "code",
   "execution_count": 12,
   "metadata": {
    "colab": {
     "base_uri": "https://localhost:8080/"
    },
    "executionInfo": {
     "elapsed": 1478,
     "status": "ok",
     "timestamp": 1609034357457,
     "user": {
      "displayName": "Anjaneya Bharat",
      "photoUrl": "",
      "userId": "17408094553526861754"
     },
     "user_tz": 300
    },
    "id": "pmCw3kM8YMfZ",
    "outputId": "a8a85071-c689-4c2b-852b-85716150facf"
   },
   "outputs": [
    {
     "name": "stdout",
     "output_type": "stream",
     "text": [
      "INFO:tensorflow:Assets written to: nn_tfTrained.mdl/assets\n"
     ]
    }
   ],
   "source": [
    "model.save('nn_tfTrained.mdl')"
   ]
  },
  {
   "cell_type": "code",
   "execution_count": 17,
   "metadata": {
    "colab": {
     "base_uri": "https://localhost:8080/",
     "height": 17
    },
    "executionInfo": {
     "elapsed": 560,
     "status": "ok",
     "timestamp": 1609034945064,
     "user": {
      "displayName": "Anjaneya Bharat",
      "photoUrl": "",
      "userId": "17408094553526861754"
     },
     "user_tz": 300
    },
    "id": "i79sq4CX8IgQ",
    "outputId": "7d91b823-0f2b-47ec-c6a8-1853f759b18c"
   },
   "outputs": [
    {
     "data": {
      "application/javascript": [
       "\n",
       "    async function download(id, filename, size) {\n",
       "      if (!google.colab.kernel.accessAllowed) {\n",
       "        return;\n",
       "      }\n",
       "      const div = document.createElement('div');\n",
       "      const label = document.createElement('label');\n",
       "      label.textContent = `Downloading \"${filename}\": `;\n",
       "      div.appendChild(label);\n",
       "      const progress = document.createElement('progress');\n",
       "      progress.max = size;\n",
       "      div.appendChild(progress);\n",
       "      document.body.appendChild(div);\n",
       "\n",
       "      const buffers = [];\n",
       "      let downloaded = 0;\n",
       "\n",
       "      const channel = await google.colab.kernel.comms.open(id);\n",
       "      // Send a message to notify the kernel that we're ready.\n",
       "      channel.send({})\n",
       "\n",
       "      for await (const message of channel.messages) {\n",
       "        // Send a message to notify the kernel that we're ready.\n",
       "        channel.send({})\n",
       "        if (message.buffers) {\n",
       "          for (const buffer of message.buffers) {\n",
       "            buffers.push(buffer);\n",
       "            downloaded += buffer.byteLength;\n",
       "            progress.value = downloaded;\n",
       "          }\n",
       "        }\n",
       "      }\n",
       "      const blob = new Blob(buffers, {type: 'application/binary'});\n",
       "      const a = document.createElement('a');\n",
       "      a.href = window.URL.createObjectURL(blob);\n",
       "      a.download = filename;\n",
       "      div.appendChild(a);\n",
       "      a.click();\n",
       "      div.remove();\n",
       "    }\n",
       "  "
      ],
      "text/plain": [
       "<IPython.core.display.Javascript object>"
      ]
     },
     "metadata": {
      "tags": []
     },
     "output_type": "display_data"
    },
    {
     "data": {
      "application/javascript": [
       "download(\"download_aaed4045-4fc9-43a4-a5a7-0a982f5fcb84\", \"nn_tfTrained.mdl\", 4096)"
      ],
      "text/plain": [
       "<IPython.core.display.Javascript object>"
      ]
     },
     "metadata": {
      "tags": []
     },
     "output_type": "display_data"
    }
   ],
   "source": [
    "#from google.colab import files\n",
    "\n",
    "# with open('nn_tfTrained.mdl', 'w') as f:\n",
    "#   f.write('some content')\n",
    "\n",
    "files.download('/content/nn_tfTrained.mdl')"
   ]
  },
  {
   "cell_type": "code",
   "execution_count": null,
   "metadata": {
    "id": "hC4JHa3cZHyY"
   },
   "outputs": [],
   "source": [
    "testY = tf.keras.utils.to_categorical(test_Y,num_classes = 10)"
   ]
  },
  {
   "cell_type": "code",
   "execution_count": null,
   "metadata": {
    "colab": {
     "base_uri": "https://localhost:8080/"
    },
    "executionInfo": {
     "elapsed": 301,
     "status": "ok",
     "timestamp": 1608757822838,
     "user": {
      "displayName": "Anjaneya Bharat",
      "photoUrl": "",
      "userId": "17408094553526861754"
     },
     "user_tz": 300
    },
    "id": "3NN5LlKnb0ry",
    "outputId": "d7297ccd-e927-4a4b-8bcc-eb8b7d7116af"
   },
   "outputs": [
    {
     "data": {
      "text/plain": [
       "28"
      ]
     },
     "execution_count": 21,
     "metadata": {
      "tags": []
     },
     "output_type": "execute_result"
    }
   ],
   "source": [
    "test_X[1].shape[1]"
   ]
  },
  {
   "cell_type": "code",
   "execution_count": null,
   "metadata": {
    "id": "pPScVweCcVEt"
   },
   "outputs": [],
   "source": [
    "from tensorflow.keras import models\n",
    "import numpy as np\n",
    "from random import randint\n",
    "import os\n",
    "%matplotlib inline\n"
   ]
  },
  {
   "cell_type": "code",
   "execution_count": null,
   "metadata": {
    "colab": {
     "base_uri": "https://localhost:8080/"
    },
    "executionInfo": {
     "elapsed": 439,
     "status": "ok",
     "timestamp": 1608758003149,
     "user": {
      "displayName": "Anjaneya Bharat",
      "photoUrl": "",
      "userId": "17408094553526861754"
     },
     "user_tz": 300
    },
    "id": "qBH-yLnAcjD7",
    "outputId": "726de91e-e2ac-4bd1-ecc7-138089682e5a"
   },
   "outputs": [
    {
     "data": {
      "text/plain": [
       "[0, 1, 2, 3, 4, 5, 6, 7, 8, 9]"
      ]
     },
     "execution_count": 23,
     "metadata": {
      "tags": []
     },
     "output_type": "execute_result"
    }
   ],
   "source": [
    "classnames = list(range(10))\n",
    "classnames"
   ]
  },
  {
   "cell_type": "code",
   "execution_count": null,
   "metadata": {
    "colab": {
     "base_uri": "https://localhost:8080/",
     "height": 318
    },
    "executionInfo": {
     "elapsed": 1177,
     "status": "ok",
     "timestamp": 1608758196691,
     "user": {
      "displayName": "Anjaneya Bharat",
      "photoUrl": "",
      "userId": "17408094553526861754"
     },
     "user_tz": 300
    },
    "id": "3TVYhWIjaRU3",
    "outputId": "f6f05880-724f-473a-b763-011872180720"
   },
   "outputs": [
    {
     "name": "stdout",
     "output_type": "stream",
     "text": [
      "WARNING:tensorflow:5 out of the last 5 calls to <function Model.make_predict_function.<locals>.predict_function at 0x7fd19c9961e0> triggered tf.function retracing. Tracing is expensive and the excessive number of tracings could be due to (1) creating @tf.function repeatedly in a loop, (2) passing tensors with different shapes, (3) passing Python objects instead of tensors. For (1), please define your @tf.function outside of the loop. For (2), @tf.function has experimental_relax_shapes=True option that relaxes argument shapes that can avoid unnecessary retracing. For (3), please refer to https://www.tensorflow.org/guide/function#controlling_retracing and https://www.tensorflow.org/api_docs/python/tf/function for  more details.\n",
      "index is  4\n",
      "class is  4\n"
     ]
    },
    {
     "data": {
      "image/png": "[encoded data removed]",
      "text/plain": [
       "<Figure size 432x288 with 1 Axes>"
      ]
     },
     "metadata": {
      "needs_background": "light",
      "tags": []
     },
     "output_type": "display_data"
    }
   ],
   "source": [
    "# Function to predict the class of an image\n",
    "def predict_image(classifier, image):\n",
    "    from tensorflow import convert_to_tensor\n",
    "    # The model expects a batch of images as input, so we'll create an array of 1 image\n",
    "    imgfeatures = img.reshape(1, img.shape[0], img.shape[1], 1)\n",
    "\n",
    "    # We need to format the input to match the training data\n",
    "    # The generator loaded the values as floating point numbers\n",
    "    # and normalized the pixel values, so...\n",
    "    imgfeatures = imgfeatures.astype('float32')\n",
    "    #imgfeatures /= 255\n",
    "    \n",
    "    # Use the model to predict the image class\n",
    "    class_probabilities = classifier.predict(imgfeatures)\n",
    "    \n",
    "    # Find the class predictions with the highest predicted probability\n",
    "    index = int(np.argmax(class_probabilities, axis=1)[0])\n",
    "    return index\n",
    "\n",
    "# Create a random test image\n",
    "img = test_X[4]\n",
    "plt.axis('off')\n",
    "plt.imshow(img)\n",
    "\n",
    "# Use the classifier to predict the class\n",
    "model1 = models.load_model('nn_tfTrained.mdl') # loads the saved model\n",
    "class_idx = predict_image(model1, img)\n",
    "print('index is ',class_idx)\n",
    "print ('class is ',classnames[class_idx])"
   ]
  },
  {
   "cell_type": "code",
   "execution_count": null,
   "metadata": {
    "id": "NQGz_INLbJHP"
   },
   "outputs": [],
   "source": []
  }
 ],
 "metadata": {
  "colab": {
   "authorship_tag": "ABX9TyPK6lhDH04FEiaIlCP6/Qw3",
   "collapsed_sections": [],
   "name": "nn_tf_Dec23.ipynb",
   "provenance": [],
   "toc_visible": true
  },
  "kernelspec": {
   "display_name": "Python 3",
   "language": "python",
   "name": "python3"
  },
  "language_info": {
   "codemirror_mode": {
    "name": "ipython",
    "version": 3
   },
   "file_extension": ".py",
   "mimetype": "text/x-python",
   "name": "python",
   "nbconvert_exporter": "python",
   "pygments_lexer": "ipython3",
   "version": "3.8.3"
  }
 },
 "nbformat": 4,
 "nbformat_minor": 1
}
